{
 "cells": [
  {
   "cell_type": "markdown",
   "id": "6971199d-2b18-49c8-b915-2a94d1ebad34",
   "metadata": {},
   "source": [
    "# Question 1"
   ]
  },
  {
   "cell_type": "code",
   "execution_count": 24,
   "id": "64b5f29e-48ca-4291-bc1d-3d117ec78929",
   "metadata": {},
   "outputs": [
    {
     "name": "stdout",
     "output_type": "stream",
     "text": [
      "Hello Python Learner!\n"
     ]
    }
   ],
   "source": [
    "def say_hello():\n",
    "    print(f\"Hello Python Learner!\")\n",
    "say_hello()"
   ]
  },
  {
   "cell_type": "markdown",
   "id": "3068ada6-4e8e-4814-929c-184631a6ee12",
   "metadata": {},
   "source": [
    "# Question 2"
   ]
  },
  {
   "cell_type": "code",
   "execution_count": 41,
   "id": "6fb6076f-fe6b-47be-98be-d0cfad18742b",
   "metadata": {},
   "outputs": [
    {
     "name": "stdout",
     "output_type": "stream",
     "text": [
      "Hello,Eesha!\n"
     ]
    }
   ],
   "source": [
    "def greet_user(name):\n",
    "    print(f\"Hello,{name}!\") \n",
    "greet_user(\"Eesha\")"
   ]
  },
  {
   "cell_type": "markdown",
   "id": "26418079-0b15-4b85-86d4-35c06bb4cca4",
   "metadata": {},
   "source": [
    "# Question 3"
   ]
  },
  {
   "cell_type": "code",
   "execution_count": 50,
   "id": "544db81a-5cb3-4809-bc79-e20365f4fa8d",
   "metadata": {},
   "outputs": [
    {
     "name": "stdout",
     "output_type": "stream",
     "text": [
      "\n",
      "I have a dog.\n",
      "My dog's name is Yeontan.\n",
      "\n",
      "I have a cat.\n",
      "My cat's name is Bella.\n"
     ]
    }
   ],
   "source": [
    "def describe_pet(animal_type, pet_name):\n",
    "    print(f\"\\nI have a {animal_type}.\")\n",
    "    print(f\"My {animal_type}'s name is {pet_name.title()}.\")\n",
    "describe_pet('dog','yeontan')\n",
    "describe_pet(animal_type='cat',pet_name='bella')"
   ]
  },
  {
   "cell_type": "markdown",
   "id": "beab3a0b-83df-4d1b-910d-c8a83833704b",
   "metadata": {},
   "source": [
    "# Question 4"
   ]
  },
  {
   "cell_type": "code",
   "execution_count": 67,
   "id": "127dcd58-86c0-4e5b-92f1-09347ef7eb16",
   "metadata": {},
   "outputs": [
    {
     "name": "stdout",
     "output_type": "stream",
     "text": [
      "\n",
      "I have a dog.\n",
      "My dog's name is Bam.\n",
      "\n",
      "I have a cat.\n",
      "My cat's name is Aelly.\n"
     ]
    }
   ],
   "source": [
    "def describe_pet(pet_name,animal_type='dog'):\n",
    "    print(f\"\\nI have a {animal_type}.\")\n",
    "    print(f\"My {animal_type}'s name is {pet_name.title()}.\")\n",
    "describe_pet('bam')\n",
    "describe_pet('aelly','cat') "
   ]
  },
  {
   "cell_type": "markdown",
   "id": "6a6c9374-90ec-4e52-9b9d-890cf783d063",
   "metadata": {},
   "source": [
    "# Question 5"
   ]
  },
  {
   "cell_type": "code",
   "execution_count": 68,
   "id": "82e7c562-49be-4edd-ac73-39b0fbf8bc33",
   "metadata": {},
   "outputs": [
    {
     "name": "stdout",
     "output_type": "stream",
     "text": [
      "Armaghan Arif\n"
     ]
    }
   ],
   "source": [
    "def get_formated_name(first,last):\n",
    "    full_name=f\"{first} {last}\"\n",
    "    return full_name.title()\n",
    "name = get_formated_name('armaghan','arif')\n",
    "print(name)"
   ]
  },
  {
   "cell_type": "markdown",
   "id": "324597d9-adf7-40b6-b0d4-c96b5ab23b04",
   "metadata": {},
   "source": [
    "# Question 6"
   ]
  },
  {
   "cell_type": "code",
   "execution_count": 70,
   "id": "18c98ff0-a060-4501-8e1e-1173d5ee92b7",
   "metadata": {},
   "outputs": [
    {
     "name": "stdout",
     "output_type": "stream",
     "text": [
      "Muhammad Arif Armaghan\n",
      "Armaghan Arif\n"
     ]
    }
   ],
   "source": [
    "def get_formated_name(first,last,middle=''):\n",
    "    if middle:\n",
    "        full_name=f\"{first} {middle} {last}\"\n",
    "    else :\n",
    "        full_name=f\"{first} {last}\"\n",
    "    return full_name.title()\n",
    "print(get_formated_name('muhammad','armaghan','arif'))\n",
    "print(get_formated_name('armaghan','arif'))      "
   ]
  },
  {
   "cell_type": "markdown",
   "id": "24d6adee-45ba-4819-b349-ffd998b372b6",
   "metadata": {},
   "source": [
    "# Question 7"
   ]
  },
  {
   "cell_type": "code",
   "execution_count": 66,
   "id": "d127e709-48bb-4c7a-9fc1-68ba323dda2e",
   "metadata": {},
   "outputs": [
    {
     "name": "stdout",
     "output_type": "stream",
     "text": [
      "{'first': 'Armaghan', 'last': 'Arif', 'age': 23}\n",
      "{'first': 'Muhammad', 'last': 'Kamran'}\n"
     ]
    }
   ],
   "source": [
    "def build_person(first,last,age=None):\n",
    "    person={'first':first,'last':last}\n",
    "    if age is not None:\n",
    "        person['age'] = age\n",
    "    return person\n",
    "print(build_person('Armaghan','Arif',age=23))\n",
    "print(build_person('Muhammad','Kamran'))"
   ]
  },
  {
   "cell_type": "markdown",
   "id": "ec7387e9-1a98-4ff8-973f-1e84a984f193",
   "metadata": {},
   "source": [
    "# Question 8"
   ]
  },
  {
   "cell_type": "code",
   "execution_count": 73,
   "id": "6c4703dd-dc7d-457e-986d-a2ade19aaa9f",
   "metadata": {},
   "outputs": [
    {
     "name": "stdout",
     "output_type": "stream",
     "text": [
      "Hello Eesha!\n",
      "Hello Hiba!\n",
      "Hello Alishba!\n"
     ]
    }
   ],
   "source": [
    "def greet_users(usernames):\n",
    "    for name in usernames:\n",
    "        print (f\"Hello {name.title()}!\")\n",
    "greet_users({\"Eesha\",\"Hiba\",\"Alishba\"})    "
   ]
  },
  {
   "cell_type": "markdown",
   "id": "d4374330-a81f-40a2-99fb-26fb1854264a",
   "metadata": {},
   "source": [
    "# Question 9"
   ]
  },
  {
   "cell_type": "code",
   "execution_count": 74,
   "id": "1e04f51b-caee-4edc-a2f8-d9c3438790e5",
   "metadata": {},
   "outputs": [
    {
     "name": "stdout",
     "output_type": "stream",
     "text": [
      "\n",
      "Making pizza with the following toppings:\n",
      "-pepperoni\n",
      "\n",
      "Making pizza with the following toppings:\n",
      "-mushrooms\n",
      "-green peppers\n",
      "-extra cheese\n"
     ]
    }
   ],
   "source": [
    "def make_pizza(*toppings):\n",
    "    print(\"\\nMaking pizza with the following toppings:\")\n",
    "    for topping in toppings:\n",
    "        print(f\"-{topping}\")\n",
    "make_pizza('pepperoni')        \n",
    "make_pizza('mushrooms','green peppers', 'extra cheese')"
   ]
  },
  {
   "cell_type": "markdown",
   "id": "c0a565c7-7e27-4d8b-bd3d-6244b2d716ae",
   "metadata": {},
   "source": [
    "# Question 10"
   ]
  },
  {
   "cell_type": "code",
   "execution_count": 75,
   "id": "47980fa5-cff4-427b-b34d-7a7e8871e070",
   "metadata": {},
   "outputs": [
    {
     "name": "stdout",
     "output_type": "stream",
     "text": [
      "{'first': 'Armaghan', 'last': 'Arif', 'location': 'Lahore', 'field': 'Computer Science'}\n"
     ]
    }
   ],
   "source": [
    "def build_profile(first,last,**user_info):\n",
    "    profile={'first':first,'last':last}\n",
    "    for key, value in user_info.items():\n",
    "        profile[key]=value\n",
    "    return profile\n",
    "user_profile=build_profile('Armaghan','Arif',\n",
    "                           location='Lahore',\n",
    "                           field='Computer Science')\n",
    "print(user_profile)"
   ]
  }
 ],
 "metadata": {
  "kernelspec": {
   "display_name": "Python 3 (ipykernel)",
   "language": "python",
   "name": "python3"
  },
  "language_info": {
   "codemirror_mode": {
    "name": "ipython",
    "version": 3
   },
   "file_extension": ".py",
   "mimetype": "text/x-python",
   "name": "python",
   "nbconvert_exporter": "python",
   "pygments_lexer": "ipython3",
   "version": "3.12.4"
  }
 },
 "nbformat": 4,
 "nbformat_minor": 5
}
